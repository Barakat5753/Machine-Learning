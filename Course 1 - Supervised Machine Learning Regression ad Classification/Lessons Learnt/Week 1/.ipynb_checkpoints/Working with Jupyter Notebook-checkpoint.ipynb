{
 "cells": [
  {
   "cell_type": "markdown",
   "id": "7a42c73d",
   "metadata": {},
   "source": [
    "# Working with Images in Jupyter notebook\n",
    "\n",
    "\n",
    "Should start with <*figure*> without * and end with </*figure> without *\n",
    "\n",
    "To add image source use <*img src = \".location\"*  style = \"width:n px; height:n px;\"> without *, n is the number of pixels\n",
    "\n",
    "To center the image use <*/center> code in between <*/center> without *\n",
    "************************\n",
    "************************\n",
    "<*figure>\n",
    "\n",
    " <*/center> <*img src=\"./path/name.extension\"   style=\"width:600px;height:200px;\"> <*/center>\n",
    " \n",
    "<*/figure>\n",
    "************************\n",
    "************************"
   ]
  },
  {
   "cell_type": "markdown",
   "id": "85018db4",
   "metadata": {},
   "source": [
    "# Writing subscripts (Using Latex instruction)\n",
    "- use dollar sign $ before and after to go to Latex formulas.\n",
    "\n",
    "- \" _ \" : underscore means subscript.\n",
    "\n",
    "- To use the the dollar sign you can write \"\\ \\ $\" without spaces\n",
    "\n",
    "\n",
    "************************\n",
    "************************\n",
    "\n",
    "f_{w,b}$ with dollar sign before\n",
    "\n",
    "$f_{w,b}$\n",
    "\n",
    "************************\n",
    "************************"
   ]
  },
  {
   "cell_type": "markdown",
   "id": "eb861fa3",
   "metadata": {},
   "source": [
    "# Markdown using Different ways\n",
    "\n",
    "- To make points like in this line use \"-\" in the begining\n",
    "- To make the word diplayes like `This` use `` before and after the word word \n"
   ]
  },
  {
   "cell_type": "code",
   "execution_count": null,
   "id": "72620168",
   "metadata": {},
   "outputs": [],
   "source": []
  }
 ],
 "metadata": {
  "kernelspec": {
   "display_name": "Python 3 (ipykernel)",
   "language": "python",
   "name": "python3"
  },
  "language_info": {
   "codemirror_mode": {
    "name": "ipython",
    "version": 3
   },
   "file_extension": ".py",
   "mimetype": "text/x-python",
   "name": "python",
   "nbconvert_exporter": "python",
   "pygments_lexer": "ipython3",
   "version": "3.9.13"
  }
 },
 "nbformat": 4,
 "nbformat_minor": 5
}
