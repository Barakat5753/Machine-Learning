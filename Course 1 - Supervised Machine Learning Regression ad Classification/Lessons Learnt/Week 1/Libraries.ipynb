{
 "cells": [
  {
   "cell_type": "markdown",
   "id": "9c1ed8b9",
   "metadata": {},
   "source": [
    "# numpy library\n",
    "\n",
    "- To import numpy use (import numpy as np)\n",
    "- To Create an array use np.array([array elements with , in between])\n",
    "- To get array size X.shape or X.shape[row number] or len(X) as a python function directly\n",
    "\n"
   ]
  },
  {
   "cell_type": "raw",
   "id": "da7ee24b",
   "metadata": {},
   "source": []
  },
  {
   "cell_type": "code",
   "execution_count": null,
   "id": "7b66158d",
   "metadata": {},
   "outputs": [],
   "source": []
  },
  {
   "cell_type": "code",
   "execution_count": null,
   "id": "3f2cbb1b",
   "metadata": {},
   "outputs": [],
   "source": []
  }
 ],
 "metadata": {
  "kernelspec": {
   "display_name": "Python 3 (ipykernel)",
   "language": "python",
   "name": "python3"
  },
  "language_info": {
   "codemirror_mode": {
    "name": "ipython",
    "version": 3
   },
   "file_extension": ".py",
   "mimetype": "text/x-python",
   "name": "python",
   "nbconvert_exporter": "python",
   "pygments_lexer": "ipython3",
   "version": "3.9.13"
  }
 },
 "nbformat": 4,
 "nbformat_minor": 5
}
