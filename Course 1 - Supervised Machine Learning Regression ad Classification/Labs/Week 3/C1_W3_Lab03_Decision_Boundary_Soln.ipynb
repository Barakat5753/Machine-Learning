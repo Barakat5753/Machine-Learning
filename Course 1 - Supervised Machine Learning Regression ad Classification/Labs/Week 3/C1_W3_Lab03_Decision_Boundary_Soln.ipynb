{
 "cells": [
  {
   "cell_type": "markdown",
   "id": "f1cc65d6",
   "metadata": {},
   "source": [
    "# Optional Lab: Logistic Regression, Decision Boundary\n",
    "\n",
    "--------------------------------\n",
    "- Edited By Barakat\n",
    "-------------------------------"
   ]
  },
  {
   "cell_type": "markdown",
   "id": "86fe6af0",
   "metadata": {},
   "source": [
    "## Goals\n",
    "In this lab, you will:\n",
    "- Plot the decision boundary for a logistic regression model. This will give you a better sense of what the model is predicting.\n"
   ]
  },
  {
   "cell_type": "code",
   "execution_count": 1,
   "id": "6ee320a5",
   "metadata": {},
   "outputs": [],
   "source": [
    "import numpy as np\n",
    "%matplotlib widget\n",
    "import matplotlib.pyplot as plt\n",
    "from lab_utils_common import plot_data, sigmoid, draw_vthresh\n",
    "plt.style.use('./deeplearning.mplstyle')"
   ]
  },
  {
   "cell_type": "markdown",
   "id": "4307acf0",
   "metadata": {},
   "source": [
    "The following functions are developped by coursera in lab_utils_common"
   ]
  },
  {
   "cell_type": "code",
   "execution_count": 2,
   "id": "35d76867",
   "metadata": {},
   "outputs": [],
   "source": [
    "# Sigmoid Function\n",
    "def sigmoid(z):\n",
    "    \"\"\"\n",
    "    Compute the sigmoid of z\n",
    "\n",
    "    Args:\n",
    "        z (ndarray): A scalar, numpy array of any size.\n",
    "\n",
    "    Returns:\n",
    "        g (ndarray): sigmoid(z), with the same shape as z\n",
    "         \n",
    "    \"\"\"\n",
    "\n",
    "    g = 1/(1+np.exp(-z))\n",
    "   \n",
    "    return g"
   ]
  },
  {
   "cell_type": "code",
   "execution_count": 3,
   "id": "ef8b7d99",
   "metadata": {},
   "outputs": [],
   "source": [
    "def draw_vthresh(ax,x):\n",
    "    \"\"\" draws a threshold \"\"\"\n",
    "    ylim = ax.get_ylim()\n",
    "    xlim = ax.get_xlim()\n",
    "    ax.fill_between([xlim[0], x], [ylim[1], ylim[1]], alpha=0.2, color=dlblue)\n",
    "    ax.fill_between([x, xlim[1]], [ylim[1], ylim[1]], alpha=0.2, color=dldarkred)\n",
    "    ax.annotate(\"z >= 0\", xy= [x,0.5], xycoords='data',\n",
    "                xytext=[30,5],textcoords='offset points')\n",
    "    d = FancyArrowPatch(\n",
    "        posA=(x, 0.5), posB=(x+3, 0.5), color=dldarkred,\n",
    "        arrowstyle='simple, head_width=5, head_length=10, tail_width=0.0',\n",
    "    )\n",
    "    ax.add_artist(d)\n",
    "    ax.annotate(\"z < 0\", xy= [x,0.5], xycoords='data',\n",
    "                 xytext=[-50,5],textcoords='offset points', ha='left')\n",
    "    f = FancyArrowPatch(\n",
    "        posA=(x, 0.5), posB=(x-3, 0.5), color=dlblue,\n",
    "        arrowstyle='simple, head_width=5, head_length=10, tail_width=0.0',\n",
    "    )\n",
    "    ax.add_artist(f)\n"
   ]
  },
  {
   "cell_type": "code",
   "execution_count": 4,
   "id": "593fb8ea",
   "metadata": {},
   "outputs": [],
   "source": [
    "# plot data - Developed by Coursera in  a separate folder\n",
    "\n",
    "dlblue = '#0096ff'; dlorange = '#FF9300'; dldarkred='#C00000'; dlmagenta='#FF40FF'; dlpurple='#7030A0'\n",
    "def plot_data(X, y, ax, pos_label=\"y=1\", neg_label=\"y=0\", s=80, loc='best' ):\n",
    "    \"\"\" plots logistic data with two axis \"\"\"\n",
    "    # Find Indices of Positive and Negative Examples\n",
    "    pos = y == 1\n",
    "    neg = y == 0\n",
    "    pos = pos.reshape(-1,)  #work with 1D or 1D y vectors\n",
    "    neg = neg.reshape(-1,)\n",
    "\n",
    "    # Plot examples\n",
    "    ax.scatter(X[pos, 0], X[pos, 1], marker='x', s=s, c = 'red', label=pos_label)\n",
    "    ax.scatter(X[neg, 0], X[neg, 1], marker='o', s=s, label=neg_label, facecolors='none', edgecolors=dlblue, lw=3)\n",
    "    ax.legend(loc=loc)\n",
    "\n",
    "    ax.figure.canvas.toolbar_visible = False\n",
    "    ax.figure.canvas.header_visible = False\n",
    "    ax.figure.canvas.footer_visible = False"
   ]
  },
  {
   "cell_type": "markdown",
   "id": "7867bf8d",
   "metadata": {},
   "source": [
    "## Dataset\n",
    "\n",
    "Let's suppose you have following training dataset\n",
    "- The input variable `X` is a numpy array which has 6 training examples, each with two features\n",
    "- The output variable `y` is also a numpy array with 6 examples, and `y` is either `0` or `1`"
   ]
  },
  {
   "cell_type": "code",
   "execution_count": 5,
   "id": "9baca38b",
   "metadata": {},
   "outputs": [],
   "source": [
    "X = np.array([[0.5, 1.5], [1,1], [1.5, 0.5], [3, 0.5], [2, 2], [1, 2.5]])\n",
    "y = np.array([0, 0, 0, 1, 1, 1]).reshape(-1,1) "
   ]
  },
  {
   "cell_type": "markdown",
   "id": "182b8eb5",
   "metadata": {},
   "source": [
    "### Plot data \n",
    "\n",
    "Let's use a helper function to plot this data. The data points with label $y=1$ are shown as red crosses, while the data points with label $y=0$ are shown as blue circles. "
   ]
  },
  {
   "cell_type": "code",
   "execution_count": 6,
   "id": "89a44af6",
   "metadata": {},
   "outputs": [
    {
     "data": {
      "application/vnd.jupyter.widget-view+json": {
       "model_id": "e6b558351ce742a1863d5b5db0dcfd5a",
       "version_major": 2,
       "version_minor": 0
      },
      "image/png": "[encoded data removed]",
      "text/html": [
       "\n",
       "            <div style=\"display: inline-block;\">\n",
       "                <div class=\"jupyter-widgets widget-label\" style=\"text-align: center;\">\n",
       "                    Figure\n",
       "                </div>\n",
       "                <img src='data:image/png;base64,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' width=400.0/>\n",
       "            </div>\n",
       "        "
      ],
      "text/plain": [
       "Canvas(footer_visible=False, header_visible=False, toolbar=Toolbar(toolitems=[('Home', 'Reset original view', …"
      ]
     },
     "metadata": {},
     "output_type": "display_data"
    }
   ],
   "source": [
    "fig,ax = plt.subplots(1,1,figsize=(4,4))\n",
    "plot_data(X, y, ax)\n",
    "\n",
    "ax.axis([0, 4, 0, 3.5])\n",
    "ax.set_ylabel('$x_1$')\n",
    "ax.set_xlabel('$x_0$')\n",
    "plt.show()"
   ]
  },
  {
   "cell_type": "markdown",
   "id": "bdfd265a",
   "metadata": {},
   "source": [
    "## Logistic regression model\n",
    "\n",
    "\n",
    "* Suppose you'd like to train a logistic regression model on this data which has the form   \n",
    "\n",
    "  $f(x) = g(w_0x_0+w_1x_1 + b)$\n",
    "  \n",
    "  where $g(z) = \\frac{1}{1+e^{-z}}$, which is the sigmoid function\n",
    "\n",
    "\n",
    "* Let's say that you trained the model and get the parameters as $b = -3, w_0 = 1, w_1 = 1$. That is,\n",
    "\n",
    "  $f(x) = g(x_0+x_1-3)$\n",
    "\n",
    "  (You'll learn how to fit these parameters to the data further in the course)\n",
    "  \n",
    "  \n",
    "Let's try to understand what this trained model is predicting by plotting its decision boundary"
   ]
  },
  {
   "cell_type": "markdown",
   "id": "3251639a",
   "metadata": {},
   "source": [
    "### Refresher on logistic regression and decision boundary\n",
    "\n",
    "* Recall that for logistic regression, the model is represented as \n",
    "\n",
    "  $$f_{\\mathbf{w},b}(\\mathbf{x}^{(i)}) = g(\\mathbf{w} \\cdot \\mathbf{x}^{(i)} + b) \\tag{1}$$\n",
    "\n",
    "  where $g(z)$ is known as the sigmoid function and it maps all input values to values between 0 and 1:\n",
    "\n",
    "  $g(z) = \\frac{1}{1+e^{-z}}\\tag{2}$\n",
    "  and $\\mathbf{w} \\cdot \\mathbf{x}$ is the vector dot product:\n",
    "  \n",
    "  $$\\mathbf{w} \\cdot \\mathbf{x} = w_0 x_0 + w_1 x_1$$\n",
    "  \n",
    "  \n",
    " * We interpret the output of the model ($f_{\\mathbf{w},b}(x)$) as the probability that $y=1$ given $\\mathbf{x}$ and parameterized by $\\mathbf{w}$ and $b$.\n",
    "* Therefore, to get a final prediction ($y=0$ or $y=1$) from the logistic regression model, we can use the following heuristic -\n",
    "\n",
    "  if $f_{\\mathbf{w},b}(x) >= 0.5$, predict $y=1$\n",
    "  \n",
    "  if $f_{\\mathbf{w},b}(x) < 0.5$, predict $y=0$\n",
    "  \n",
    "  \n",
    "* Let's plot the sigmoid function to see where $g(z) >= 0.5$"
   ]
  },
  {
   "cell_type": "code",
   "execution_count": 7,
   "id": "a73f3496",
   "metadata": {},
   "outputs": [
    {
     "ename": "NameError",
     "evalue": "name 'FancyArrowPatch' is not defined",
     "output_type": "error",
     "traceback": [
      "\u001b[1;31m---------------------------------------------------------------------------\u001b[0m",
      "\u001b[1;31mNameError\u001b[0m                                 Traceback (most recent call last)",
      "\u001b[1;32m~\\AppData\\Local\\Temp\\ipykernel_3396\\1116631091.py\u001b[0m in \u001b[0;36m<module>\u001b[1;34m\u001b[0m\n\u001b[0;32m      9\u001b[0m \u001b[0max\u001b[0m\u001b[1;33m.\u001b[0m\u001b[0mset_ylabel\u001b[0m\u001b[1;33m(\u001b[0m\u001b[1;34m'sigmoid(z)'\u001b[0m\u001b[1;33m)\u001b[0m\u001b[1;33m\u001b[0m\u001b[1;33m\u001b[0m\u001b[0m\n\u001b[0;32m     10\u001b[0m \u001b[0max\u001b[0m\u001b[1;33m.\u001b[0m\u001b[0mset_xlabel\u001b[0m\u001b[1;33m(\u001b[0m\u001b[1;34m'z'\u001b[0m\u001b[1;33m)\u001b[0m\u001b[1;33m\u001b[0m\u001b[1;33m\u001b[0m\u001b[0m\n\u001b[1;32m---> 11\u001b[1;33m \u001b[0mdraw_vthresh\u001b[0m\u001b[1;33m(\u001b[0m\u001b[0max\u001b[0m\u001b[1;33m,\u001b[0m\u001b[1;36m0\u001b[0m\u001b[1;33m)\u001b[0m\u001b[1;33m\u001b[0m\u001b[1;33m\u001b[0m\u001b[0m\n\u001b[0m",
      "\u001b[1;32m~\\AppData\\Local\\Temp\\ipykernel_3396\\4228723465.py\u001b[0m in \u001b[0;36mdraw_vthresh\u001b[1;34m(ax, x)\u001b[0m\n\u001b[0;32m      7\u001b[0m     ax.annotate(\"z >= 0\", xy= [x,0.5], xycoords='data',\n\u001b[0;32m      8\u001b[0m                 xytext=[30,5],textcoords='offset points')\n\u001b[1;32m----> 9\u001b[1;33m     d = FancyArrowPatch(\n\u001b[0m\u001b[0;32m     10\u001b[0m         \u001b[0mposA\u001b[0m\u001b[1;33m=\u001b[0m\u001b[1;33m(\u001b[0m\u001b[0mx\u001b[0m\u001b[1;33m,\u001b[0m \u001b[1;36m0.5\u001b[0m\u001b[1;33m)\u001b[0m\u001b[1;33m,\u001b[0m \u001b[0mposB\u001b[0m\u001b[1;33m=\u001b[0m\u001b[1;33m(\u001b[0m\u001b[0mx\u001b[0m\u001b[1;33m+\u001b[0m\u001b[1;36m3\u001b[0m\u001b[1;33m,\u001b[0m \u001b[1;36m0.5\u001b[0m\u001b[1;33m)\u001b[0m\u001b[1;33m,\u001b[0m \u001b[0mcolor\u001b[0m\u001b[1;33m=\u001b[0m\u001b[0mdldarkred\u001b[0m\u001b[1;33m,\u001b[0m\u001b[1;33m\u001b[0m\u001b[1;33m\u001b[0m\u001b[0m\n\u001b[0;32m     11\u001b[0m         \u001b[0marrowstyle\u001b[0m\u001b[1;33m=\u001b[0m\u001b[1;34m'simple, head_width=5, head_length=10, tail_width=0.0'\u001b[0m\u001b[1;33m,\u001b[0m\u001b[1;33m\u001b[0m\u001b[1;33m\u001b[0m\u001b[0m\n",
      "\u001b[1;31mNameError\u001b[0m: name 'FancyArrowPatch' is not defined"
     ]
    },
    {
     "data": {
      "application/vnd.jupyter.widget-view+json": {
       "model_id": "ae94e416fbbd4d7ba1a5adbe691dd75e",
       "version_major": 2,
       "version_minor": 0
      },
      "image/png": "[encoded data removed]",
      "text/html": [
       "\n",
       "            <div style=\"display: inline-block;\">\n",
       "                <div class=\"jupyter-widgets widget-label\" style=\"text-align: center;\">\n",
       "                    Figure\n",
       "                </div>\n",
       "                <img src='data:image/png;base64,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' width=500.0/>\n",
       "            </div>\n",
       "        "
      ],
      "text/plain": [
       "Canvas(toolbar=Toolbar(toolitems=[('Home', 'Reset original view', 'home', 'home'), ('Back', 'Back to previous …"
      ]
     },
     "metadata": {},
     "output_type": "display_data"
    }
   ],
   "source": [
    "# Plot sigmoid(z) over a range of values from -10 to 10\n",
    "z = np.arange(-10,11)\n",
    "\n",
    "fig,ax = plt.subplots(1,1,figsize=(5,3))\n",
    "# Plot z vs sigmoid(z)\n",
    "ax.plot(z, sigmoid(z), c=\"b\")\n",
    "\n",
    "ax.set_title(\"Sigmoid function\")\n",
    "ax.set_ylabel('sigmoid(z)')\n",
    "ax.set_xlabel('z')\n",
    "draw_vthresh(ax,0)"
   ]
  },
  {
   "cell_type": "markdown",
   "id": "7b5bea62",
   "metadata": {},
   "source": [
    "* As you can see, $g(z) >= 0.5$ for $z >=0$\n",
    "\n",
    "* For a logistic regression model, $z = \\mathbf{w} \\cdot \\mathbf{x} + b$. Therefore,\n",
    "\n",
    "  if $\\mathbf{w} \\cdot \\mathbf{x} + b >= 0$, the model predicts $y=1$\n",
    "  \n",
    "  if $\\mathbf{w} \\cdot \\mathbf{x} + b < 0$, the model predicts $y=0$\n",
    "  \n",
    "  \n",
    "  \n",
    "### Plotting decision boundary\n",
    "\n",
    "Now, let's go back to our example to understand how the logistic regression model is making predictions.\n",
    "\n",
    "* Our logistic regression model has the form\n",
    "\n",
    "  $f(\\mathbf{x}) = g(-3 + x_0+x_1)$\n",
    "\n",
    "\n",
    "* From what you've learnt above, you can see that this model predicts $y=1$ if $-3 + x_0+x_1 >= 0$\n",
    "\n",
    "Let's see what this looks like graphically. We'll start by plotting $-3 + x_0+x_1 = 0$, which is equivalent to $x_1 = 3 - x_0$.\n"
   ]
  },
  {
   "cell_type": "code",
   "execution_count": null,
   "id": "f3c4a990",
   "metadata": {},
   "outputs": [],
   "source": [
    "# Choose values between 0 and 6\n",
    "x0 = np.arange(0,6)\n",
    "\n",
    "x1 = 3 - x0\n",
    "fig,ax = plt.subplots(1,1,figsize=(5,4))\n",
    "# Plot the decision boundary\n",
    "ax.plot(x0,x1, c=\"b\")\n",
    "ax.axis([0, 4, 0, 3.5])\n",
    "\n",
    "# Fill the region below the line\n",
    "ax.fill_between(x0,x1, alpha=0.2)\n",
    "\n",
    "# Plot the original data\n",
    "plot_data(X,y,ax)\n",
    "ax.set_ylabel(r'$x_1$')\n",
    "ax.set_xlabel(r'$x_0$')\n",
    "plt.show()"
   ]
  },
  {
   "cell_type": "markdown",
   "id": "dbb5b861",
   "metadata": {},
   "source": [
    "* In the plot above, the blue line represents the line $x_0 + x_1 - 3 = 0$ and it should intersect the x1 axis at 3 (if we set $x_1$ = 3, $x_0$ = 0) and the x0 axis at 3 (if we set $x_1$ = 0, $x_0$ = 3). \n",
    "\n",
    "\n",
    "* The shaded region represents $-3 + x_0+x_1 < 0$. The region above the line is $-3 + x_0+x_1 > 0$.\n",
    "\n",
    "\n",
    "* Any point in the shaded region (under the line) is classified as $y=0$.  Any point on or above the line is classified as $y=1$. This line is known as the \"decision boundary\".\n",
    "\n",
    "As we've seen in the lectures, by using higher order polynomial terms (eg: $f(x) = g( x_0^2 + x_1 -1)$, we can come up with more complex non-linear boundaries."
   ]
  },
  {
   "cell_type": "markdown",
   "id": "cfde5655",
   "metadata": {},
   "source": [
    "## Congratulations!\n",
    "You have explored the decision boundary in the context of logistic regression."
   ]
  },
  {
   "cell_type": "code",
   "execution_count": null,
   "id": "40e0932c",
   "metadata": {},
   "outputs": [],
   "source": []
  },
  {
   "cell_type": "code",
   "execution_count": null,
   "id": "a2ef86f2",
   "metadata": {},
   "outputs": [],
   "source": []
  }
 ],
 "metadata": {
  "kernelspec": {
   "display_name": "Python 3 (ipykernel)",
   "language": "python",
   "name": "python3"
  },
  "language_info": {
   "codemirror_mode": {
    "name": "ipython",
    "version": 3
   },
   "file_extension": ".py",
   "mimetype": "text/x-python",
   "name": "python",
   "nbconvert_exporter": "python",
   "pygments_lexer": "ipython3",
   "version": "3.9.13"
  }
 },
 "nbformat": 4,
 "nbformat_minor": 5
}
